{
 "cells": [
  {
   "cell_type": "code",
   "execution_count": 1,
   "metadata": {},
   "outputs": [
    {
     "ename": "TypeError",
     "evalue": "sequence item 0: expected str instance, int found",
     "output_type": "error",
     "traceback": [
      "\u001b[1;31m---------------------------------------------------------------------------\u001b[0m",
      "\u001b[1;31mTypeError\u001b[0m                                 Traceback (most recent call last)",
      "\u001b[1;32m<ipython-input-1-a7e7816d0fb4>\u001b[0m in \u001b[0;36m<module>\u001b[1;34m\u001b[0m\n\u001b[1;32m----> 1\u001b[1;33m \u001b[0mprint\u001b[0m\u001b[1;33m(\u001b[0m\u001b[1;34m''\u001b[0m\u001b[1;33m.\u001b[0m\u001b[0mjoin\u001b[0m\u001b[1;33m(\u001b[0m\u001b[0mrange\u001b[0m\u001b[1;33m(\u001b[0m\u001b[1;36m1\u001b[0m\u001b[1;33m,\u001b[0m\u001b[1;36m6\u001b[0m\u001b[1;33m)\u001b[0m\u001b[1;33m)\u001b[0m\u001b[1;33m)\u001b[0m\u001b[1;33m\u001b[0m\u001b[1;33m\u001b[0m\u001b[0m\n\u001b[0m",
      "\u001b[1;31mTypeError\u001b[0m: sequence item 0: expected str instance, int found"
     ]
    }
   ],
   "source": [
    "print(''.join(range(1,6)))"
   ]
  },
  {
   "cell_type": "code",
   "execution_count": 2,
   "metadata": {},
   "outputs": [
    {
     "name": "stdout",
     "output_type": "stream",
     "text": [
      "ab\n"
     ]
    }
   ],
   "source": [
    "print(''.join(['a','b']))"
   ]
  },
  {
   "cell_type": "code",
   "execution_count": 3,
   "metadata": {},
   "outputs": [
    {
     "data": {
      "text/plain": [
       "5"
      ]
     },
     "execution_count": 3,
     "metadata": {},
     "output_type": "execute_result"
    }
   ],
   "source": [
    "len('abchd')"
   ]
  },
  {
   "cell_type": "code",
   "execution_count": 4,
   "metadata": {},
   "outputs": [],
   "source": [
    "s = 'abchd'"
   ]
  },
  {
   "cell_type": "code",
   "execution_count": 6,
   "metadata": {},
   "outputs": [
    {
     "data": {
      "text/plain": [
       "'ab'"
      ]
     },
     "execution_count": 6,
     "metadata": {},
     "output_type": "execute_result"
    }
   ],
   "source": [
    "s[:2]"
   ]
  },
  {
   "cell_type": "code",
   "execution_count": 18,
   "metadata": {},
   "outputs": [],
   "source": [
    "def f(string,sub_string):\n",
    "    length = len(sub_string)\n",
    "    s_list  = []\n",
    "    n = 0\n",
    "    for item in range(len(string)-length + 1):\n",
    "        s_list.append(string[item:item+length])\n",
    "        \n",
    "    for i in s_list:\n",
    "        if sub_string == i:\n",
    "            n += 1\n",
    "        \n",
    "    return s_list, n"
   ]
  },
  {
   "cell_type": "code",
   "execution_count": 19,
   "metadata": {},
   "outputs": [
    {
     "data": {
      "text/plain": [
       "(['Th',\n",
       "  'hI',\n",
       "  'Is',\n",
       "  'si',\n",
       "  'is',\n",
       "  'sC',\n",
       "  'Co',\n",
       "  'oN',\n",
       "  'Nf',\n",
       "  'fU',\n",
       "  'Us',\n",
       "  'sI',\n",
       "  'In',\n",
       "  'nG'],\n",
       " 1)"
      ]
     },
     "execution_count": 19,
     "metadata": {},
     "output_type": "execute_result"
    }
   ],
   "source": [
    "f('ThIsisCoNfUsInG', 'is')"
   ]
  },
  {
   "cell_type": "code",
   "execution_count": 24,
   "metadata": {},
   "outputs": [
    {
     "name": "stdout",
     "output_type": "stream",
     "text": [
      "True\n",
      "False\n",
      "True\n",
      "False\n",
      "False\n"
     ]
    }
   ],
   "source": [
    "s = '#$%@^&*kjnk svskjnbui h 4oi3hheuh /dfh uidshvhdsuihv suihc 0hrem89m4c02mw4xo;,wh fwhncoishmxlxfkjsahnxu83v 08 n8OHOIHIOMOICWHOFCMHEOFMCOEJMC0J09C 03J J3L;JMFC3JM3JC3'JIOO9MMJ099U N090N9 OOHOLNHNLLKNLKNKNNNNNNNNNNNNNNNNNNNNNNNNNNNNNNNNNNNNNNNNNNNNNNNNNNNNNNNNNNNNNNNNNNNNNNNNNNNNNNNNNNNNNNNNNNNNNNNNNNNNNKKKKKKKKKKKKKKKKKKKKKKKKKKKKKKKKKKKKKKKKKKKKKKKKKKKKKKKKKKKKKKKKKKKKKKKKKKKKKKKKK3333333333333333333333333333333333333333333333333333333333333333333333333333333333333333333333333000000000000000000000000000000000000000000000000000000000000000000000000000'\n",
    "print(s.isalnum())\n",
    "print(True if any(char.isalpha() for char in s) else False)\n",
    "print(True if any(char.isdigit() for char in s) else False)\n",
    "print(True if any(char.islower() for char in s) else False)\n",
    "print(True if any(char.isupper() for char in s) else False)"
   ]
  },
  {
   "cell_type": "code",
   "execution_count": 23,
   "metadata": {},
   "outputs": [
    {
     "data": {
      "text/plain": [
       "True"
      ]
     },
     "execution_count": 23,
     "metadata": {},
     "output_type": "execute_result"
    }
   ],
   "source": [
    "'s'.isalpha()"
   ]
  },
  {
   "cell_type": "code",
   "execution_count": 37,
   "metadata": {},
   "outputs": [
    {
     "name": "stdout",
     "output_type": "stream",
     "text": [
      "    y     \n",
      "   yyy    \n",
      "  yyyyy   \n",
      " yyyyyyy  \n",
      "yyyyyyyyy \n"
     ]
    }
   ],
   "source": [
    "thick = 5\n",
    "char = 'y'\n",
    "for i in (range(1,thick*2,2)):\n",
    "    x = i*char\n",
    "    print(x.center(thick*2))"
   ]
  },
  {
   "cell_type": "code",
   "execution_count": 38,
   "metadata": {},
   "outputs": [
    {
     "data": {
      "text/plain": [
       "True"
      ]
     },
     "execution_count": 38,
     "metadata": {},
     "output_type": "execute_result"
    }
   ],
   "source": [
    "x.ljust(10) == x.center(10)"
   ]
  },
  {
   "cell_type": "code",
   "execution_count": 39,
   "metadata": {},
   "outputs": [
    {
     "name": "stdout",
     "output_type": "stream",
     "text": [
      "  yyyyy               yyyyy\n",
      "  yyyyy               yyyyy\n",
      "  yyyyy               yyyyy\n",
      "  yyyyy               yyyyy\n",
      "  yyyyy               yyyyy\n",
      "  yyyyy               yyyyy\n"
     ]
    }
   ],
   "source": [
    "for i in range(thick+1):\n",
    "    x = thick*char\n",
    "    print(x.rjust(thick+(thick//2),' ') + x.rjust(thick*4,' '))"
   ]
  },
  {
   "cell_type": "code",
   "execution_count": 45,
   "metadata": {},
   "outputs": [
    {
     "name": "stdout",
     "output_type": "stream",
     "text": [
      "abcd\n"
     ]
    }
   ],
   "source": [
    "print('abcd', sep = '-')"
   ]
  },
  {
   "cell_type": "code",
   "execution_count": 46,
   "metadata": {},
   "outputs": [],
   "source": [
    "l = list('abcd')"
   ]
  },
  {
   "cell_type": "code",
   "execution_count": 47,
   "metadata": {},
   "outputs": [
    {
     "data": {
      "text/plain": [
       "['a', 'b', 'c', 'd']"
      ]
     },
     "execution_count": 47,
     "metadata": {},
     "output_type": "execute_result"
    }
   ],
   "source": [
    "l"
   ]
  },
  {
   "cell_type": "code",
   "execution_count": 50,
   "metadata": {},
   "outputs": [
    {
     "data": {
      "text/plain": [
       "['a', 'b']"
      ]
     },
     "execution_count": 50,
     "metadata": {},
     "output_type": "execute_result"
    }
   ],
   "source": [
    "l[:2]"
   ]
  },
  {
   "cell_type": "code",
   "execution_count": 24,
   "metadata": {},
   "outputs": [],
   "source": [
    "string = 'ABCDEFGHIJKLIMNOQRSTUVWXYZ'"
   ]
  },
  {
   "cell_type": "code",
   "execution_count": 25,
   "metadata": {
    "scrolled": true
   },
   "outputs": [],
   "source": [
    "max_width = 4"
   ]
  },
  {
   "cell_type": "code",
   "execution_count": 26,
   "metadata": {
    "scrolled": true
   },
   "outputs": [
    {
     "name": "stdout",
     "output_type": "stream",
     "text": [
      "ABCD\n",
      "EFGH\n",
      "IJKL\n",
      "IJKL\n",
      "QRST\n",
      "UVWX\n",
      "YZ\n"
     ]
    }
   ],
   "source": [
    "l = list(string)\n",
    "new_list = l[::max_width]\n",
    "for char in new_list:\n",
    "    print(''.join(l[l.index(char):l.index(char)+max_width]))"
   ]
  },
  {
   "cell_type": "code",
   "execution_count": 22,
   "metadata": {},
   "outputs": [
    {
     "name": "stdout",
     "output_type": "stream",
     "text": [
      "['A', 'E', 'I', 'I', 'Q', 'U', 'Y']\n"
     ]
    }
   ],
   "source": [
    "print(new_list)"
   ]
  },
  {
   "cell_type": "code",
   "execution_count": 23,
   "metadata": {
    "scrolled": true
   },
   "outputs": [
    {
     "name": "stdout",
     "output_type": "stream",
     "text": [
      "ABCD\n",
      "EFGH\n",
      "IJKL\n",
      "IJKL\n",
      "QRST\n",
      "UVWX\n",
      "YZ\n"
     ]
    }
   ],
   "source": []
  },
  {
   "cell_type": "code",
   "execution_count": 37,
   "metadata": {},
   "outputs": [
    {
     "data": {
      "text/plain": [
       "0"
      ]
     },
     "execution_count": 37,
     "metadata": {},
     "output_type": "execute_result"
    }
   ],
   "source": [
    "new_list.index('A')"
   ]
  },
  {
   "cell_type": "code",
   "execution_count": 77,
   "metadata": {},
   "outputs": [
    {
     "name": "stdout",
     "output_type": "stream",
     "text": [
      "5 8 7 4 9 8 2 7\n"
     ]
    }
   ],
   "source": [
    "arr = list(map(int, input().split()))"
   ]
  },
  {
   "cell_type": "code",
   "execution_count": 80,
   "metadata": {},
   "outputs": [],
   "source": [
    "arr.sort()\n",
    "new_arr = []\n",
    "for char in arr:\n",
    "    if char not in new_arr:\n",
    "        new_arr.append(char)"
   ]
  },
  {
   "cell_type": "code",
   "execution_count": 81,
   "metadata": {},
   "outputs": [
    {
     "name": "stdout",
     "output_type": "stream",
     "text": [
      "8\n"
     ]
    }
   ],
   "source": [
    "print(new_arr[-2])"
   ]
  },
  {
   "cell_type": "code",
   "execution_count": 89,
   "metadata": {},
   "outputs": [
    {
     "name": "stdout",
     "output_type": "stream",
     "text": [
      "2\n",
      "K\n",
      "9\n",
      "A\n",
      "0\n"
     ]
    }
   ],
   "source": [
    "if __name__ == '__main__':\n",
    "    name_list  = []\n",
    "    score_list = []\n",
    "    for _ in range(int(input())):\n",
    "        name = input()\n",
    "        name_list.append(name)\n",
    "        score = float(input())\n",
    "        score_list.append(score)"
   ]
  },
  {
   "cell_type": "code",
   "execution_count": 90,
   "metadata": {},
   "outputs": [
    {
     "name": "stdout",
     "output_type": "stream",
     "text": [
      "[9.0, 0.0]\n"
     ]
    }
   ],
   "source": [
    "print(score_list)"
   ]
  },
  {
   "cell_type": "code",
   "execution_count": 91,
   "metadata": {},
   "outputs": [
    {
     "name": "stdout",
     "output_type": "stream",
     "text": [
      "{'A': 0.0}\n"
     ]
    }
   ],
   "source": [
    "print(dic)"
   ]
  },
  {
   "cell_type": "code",
   "execution_count": 92,
   "metadata": {},
   "outputs": [
    {
     "name": "stdout",
     "output_type": "stream",
     "text": [
      "1\n",
      "1\n"
     ]
    }
   ],
   "source": [
    "num_list = [1,2,5,9,2,6,8]\n",
    "for item in num_list:\n",
    "    if item == 2:\n",
    "        print(num_list.index(item))"
   ]
  },
  {
   "cell_type": "code",
   "execution_count": 93,
   "metadata": {},
   "outputs": [
    {
     "data": {
      "text/plain": [
       "1"
      ]
     },
     "execution_count": 93,
     "metadata": {},
     "output_type": "execute_result"
    }
   ],
   "source": [
    "num_list.index(2)"
   ]
  },
  {
   "cell_type": "code",
   "execution_count": 94,
   "metadata": {},
   "outputs": [
    {
     "ename": "AttributeError",
     "evalue": "'list' object has no attribute 'replace'",
     "output_type": "error",
     "traceback": [
      "\u001b[1;31m---------------------------------------------------------------------------\u001b[0m",
      "\u001b[1;31mAttributeError\u001b[0m                            Traceback (most recent call last)",
      "\u001b[1;32m<ipython-input-94-53b35a78831d>\u001b[0m in \u001b[0;36m<module>\u001b[1;34m\u001b[0m\n\u001b[1;32m----> 1\u001b[1;33m \u001b[0mnum_list\u001b[0m\u001b[1;33m.\u001b[0m\u001b[0mreplace\u001b[0m\u001b[1;33m(\u001b[0m\u001b[1;36m2\u001b[0m\u001b[1;33m)\u001b[0m\u001b[1;33m\u001b[0m\u001b[1;33m\u001b[0m\u001b[0m\n\u001b[0m",
      "\u001b[1;31mAttributeError\u001b[0m: 'list' object has no attribute 'replace'"
     ]
    }
   ],
   "source": [
    "num_list."
   ]
  },
  {
   "cell_type": "code",
   "execution_count": 96,
   "metadata": {},
   "outputs": [
    {
     "name": "stdout",
     "output_type": "stream",
     "text": [
      "5\n",
      "a\n",
      "1\n",
      "b\n",
      "2\n",
      "c\n",
      "3\n",
      "d\n",
      "4\n",
      "e\n",
      "5\n",
      "b\n"
     ]
    }
   ],
   "source": [
    "if __name__ == '__main__':\n",
    "    name_list = []\n",
    "    score_list = []\n",
    "\n",
    "    # Input the number of students\n",
    "    n = int(input())\n",
    "\n",
    "    # Input student names and scores\n",
    "    for _ in range(n):\n",
    "        name = input()\n",
    "        name_list.append(name)\n",
    "        score = float(input())\n",
    "        score_list.append(score)\n",
    "\n",
    "    # Find the smallest and second smallest scores\n",
    "    smallest = min(score_list)\n",
    "    second_smallest = float('inf')  # Initialize with positive infinity\n",
    "\n",
    "    for score in score_list:\n",
    "        if score != smallest and score < second_smallest:\n",
    "            second_smallest = score\n",
    "\n",
    "    # Find the positions of students with the second smallest score\n",
    "    positions = [index for index, score in enumerate(score_list) if score == second_smallest]\n",
    "\n",
    "    # Get the names of students with the second smallest score and sort them alphabetically\n",
    "    names_with_second_smallest_score = [name_list[position] for position in positions]\n",
    "    names_with_second_smallest_score.sort()\n",
    "\n",
    "    # Print the sorted names\n",
    "    for name in names_with_second_smallest_score:\n",
    "        print(name)\n"
   ]
  },
  {
   "cell_type": "code",
   "execution_count": 102,
   "metadata": {},
   "outputs": [],
   "source": [
    "n = round(sum([1,2,3]), 2)"
   ]
  },
  {
   "cell_type": "code",
   "execution_count": 103,
   "metadata": {},
   "outputs": [
    {
     "name": "stdout",
     "output_type": "stream",
     "text": [
      "6\n"
     ]
    }
   ],
   "source": [
    "print(n)"
   ]
  },
  {
   "cell_type": "code",
   "execution_count": 106,
   "metadata": {},
   "outputs": [
    {
     "ename": "TypeError",
     "evalue": "'int' object is not iterable",
     "output_type": "error",
     "traceback": [
      "\u001b[1;31m---------------------------------------------------------------------------\u001b[0m",
      "\u001b[1;31mTypeError\u001b[0m                                 Traceback (most recent call last)",
      "\u001b[1;32m<ipython-input-106-e35865c00b88>\u001b[0m in \u001b[0;36m<module>\u001b[1;34m\u001b[0m\n\u001b[0;32m      1\u001b[0m \u001b[1;32mfrom\u001b[0m \u001b[0mfractions\u001b[0m \u001b[1;32mimport\u001b[0m \u001b[0mFraction\u001b[0m\u001b[1;33m\u001b[0m\u001b[1;33m\u001b[0m\u001b[0m\n\u001b[0;32m      2\u001b[0m \u001b[0mfracs\u001b[0m \u001b[1;33m=\u001b[0m \u001b[1;33m[\u001b[0m\u001b[1;33m]\u001b[0m\u001b[1;33m\u001b[0m\u001b[1;33m\u001b[0m\u001b[0m\n\u001b[1;32m----> 3\u001b[1;33m \u001b[0mfracs\u001b[0m\u001b[1;33m.\u001b[0m\u001b[0mappend\u001b[0m\u001b[1;33m(\u001b[0m\u001b[0mFraction\u001b[0m\u001b[1;33m(\u001b[0m\u001b[1;33m*\u001b[0m\u001b[0mmap\u001b[0m\u001b[1;33m(\u001b[0m\u001b[0mint\u001b[0m\u001b[1;33m,\u001b[0m \u001b[1;36m1\u001b[0m\u001b[1;33m)\u001b[0m\u001b[1;33m)\u001b[0m\u001b[1;33m)\u001b[0m\u001b[1;33m\u001b[0m\u001b[1;33m\u001b[0m\u001b[0m\n\u001b[0m",
      "\u001b[1;31mTypeError\u001b[0m: 'int' object is not iterable"
     ]
    }
   ],
   "source": [
    "from fractions import Fraction\n",
    "fracs = []\n",
    "fracs.append(Fraction(*map(int, 1)))"
   ]
  },
  {
   "cell_type": "code",
   "execution_count": 146,
   "metadata": {},
   "outputs": [],
   "source": [
    "def minions_game(word):\n",
    "    sub = []\n",
    "    Kevin = 0\n",
    "    Kevin_list = []\n",
    "    Stuart = 0\n",
    "    Stuart_list  = []\n",
    "    for num in range(1,7):\n",
    "        for i in range(len(word)-num+1):\n",
    "            sub.append(word[i:i+num])\n",
    "    for items in sub:\n",
    "        if items[0] not in ['A','E','I','U','O']:\n",
    "            Stuart += 1\n",
    "            Stuart_list.append(items)\n",
    "        else:\n",
    "            Kevin += 1\n",
    "            Kevin_list.append(items)\n",
    "            \n",
    "            \n",
    "    if Stuart > Kevin:\n",
    "        print (f'Stuart {Stuart}')\n",
    "        print(Stuart_list)\n",
    "    elif Kevin > Stuart:\n",
    "        print(f'Kevin {Kevin}')\n",
    "        print(Kevin_list)\n",
    "    elif Kevin == Stuart:\n",
    "        print('Draw') "
   ]
  },
  {
   "cell_type": "code",
   "execution_count": 147,
   "metadata": {},
   "outputs": [
    {
     "name": "stdout",
     "output_type": "stream",
     "text": [
      "Kevin 18\n",
      "['A', 'A', 'A', 'A', 'AA', 'AN', 'AN', 'AS', 'AAN', 'ANA', 'ANA', 'AANA', 'ANAN', 'ANAS', 'AANAN', 'ANANA', 'AANANA', 'ANANAS']\n"
     ]
    }
   ],
   "source": [
    "minions_game('BAANANAS')"
   ]
  },
  {
   "cell_type": "code",
   "execution_count": 148,
   "metadata": {},
   "outputs": [],
   "source": [
    "def minions_game(word):\n",
    "    vowels = 'AEIOU'\n",
    "    length = len(word)\n",
    "    Stuart_score = 0\n",
    "    Kevin_score = 0\n",
    "\n",
    "    for i in range(length):\n",
    "        if word[i] in vowels:\n",
    "            Kevin_score += length - i\n",
    "        else:\n",
    "            Stuart_score += length - i\n",
    "\n",
    "    if Stuart_score > Kevin_score:\n",
    "        print(f\"Stuart {Stuart_score}\")\n",
    "    elif Kevin_score > Stuart_score:\n",
    "        print(f\"Kevin {Kevin_score}\")\n",
    "    else:\n",
    "        print(\"Draw\")\n"
   ]
  },
  {
   "cell_type": "code",
   "execution_count": 151,
   "metadata": {},
   "outputs": [
    {
     "name": "stdout",
     "output_type": "stream",
     "text": [
      "Stuart 12\n"
     ]
    }
   ],
   "source": [
    "minions_game('BANANA')"
   ]
  },
  {
   "cell_type": "code",
   "execution_count": 6,
   "metadata": {},
   "outputs": [
    {
     "name": "stdout",
     "output_type": "stream",
     "text": [
      "[0, 0, 0]\n",
      "[0, 0, 1]\n",
      "[0, 1, 0]\n",
      "[0, 1, 2]\n",
      "[0, 2, 1]\n",
      "[0, 2, 2]\n",
      "[1, 0, 0]\n",
      "[1, 0, 2]\n",
      "[1, 1, 1]\n",
      "[1, 1, 2]\n",
      "[1, 2, 0]\n",
      "[1, 2, 1]\n",
      "[1, 2, 2]\n",
      "[2, 0, 1]\n",
      "[2, 0, 2]\n",
      "[2, 1, 0]\n",
      "[2, 1, 1]\n",
      "[2, 1, 2]\n",
      "[2, 2, 0]\n",
      "[2, 2, 1]\n",
      "[2, 2, 2]\n"
     ]
    }
   ],
   "source": [
    "for i in range(3):\n",
    "    for j in range(3):\n",
    "        for k in range(3):\n",
    "            if i + j + k != 2:\n",
    "                print([i,j,k])"
   ]
  },
  {
   "cell_type": "code",
   "execution_count": null,
   "metadata": {},
   "outputs": [],
   "source": [
    "if __name__ == '__main__':\n",
    "    N = int(input())\n",
    "\n",
    "    main_list = []\n",
    "    \n",
    "    for _ in range(N):\n",
    "        cmd, *inp = input().split()\n",
    "        \n",
    "        if cmd.lower() == 'insert':\n",
    "            main_list.insert(int(inp[0]),int(inp[1 ]))\n",
    "            \n",
    "        elif cmd.lower() == 'print':\n",
    "            print(main_list)\n",
    "            \n",
    "        elif cmd.lower() == 'remove':\n",
    "            main_list.remove(int(inp[0]))\n",
    "            \n",
    "        elif cmd.lower() == 'append':\n",
    "            main_list.append(int(inp[0]))\n",
    "            \n",
    "        elif cmd.lower() == 'sort':\n",
    "            main_list.sort()\n",
    "            \n",
    "        elif cmd.lower() == 'pop':\n",
    "            main_list.pop()\n",
    "            \n",
    "        elif cmd.lower() == 'reverse':\n",
    "            main_list.reverse()\n",
    "            "
   ]
  },
  {
   "cell_type": "code",
   "execution_count": 4,
   "metadata": {},
   "outputs": [
    {
     "data": {
      "text/plain": [
       "3713081631934410656"
      ]
     },
     "execution_count": 4,
     "metadata": {},
     "output_type": "execute_result"
    }
   ],
   "source": [
    "hash((1,2))"
   ]
  },
  {
   "cell_type": "code",
   "execution_count": 11,
   "metadata": {},
   "outputs": [
    {
     "name": "stdout",
     "output_type": "stream",
     "text": [
      "1 2\n"
     ]
    }
   ],
   "source": [
    "integer_list = tuple(map(int, input().split()))"
   ]
  },
  {
   "cell_type": "code",
   "execution_count": 12,
   "metadata": {},
   "outputs": [
    {
     "name": "stdout",
     "output_type": "stream",
     "text": [
      "(1, 2)\n"
     ]
    }
   ],
   "source": [
    "print(integer_list)"
   ]
  },
  {
   "cell_type": "code",
   "execution_count": null,
   "metadata": {},
   "outputs": [],
   "source": [
    "class Points(object):\n",
    "    def __init__(self, x, y, z):\n",
    "        self.x = x\n",
    "        self.y = y\n",
    "        self.z = z\n",
    "        \n",
    "    def __sub__(self, no):\n",
    "        return Points(self.x - no.x,\n",
    "                      self.y - no.y,\n",
    "                      self.z - no.z)\n",
    "\n",
    "    def dot(self, no): # a.b = x1x2 + y1y2 + z1z2\n",
    "        return self.x*no.x + self.y*no.y + self.z*no.z\n",
    "    \n",
    "    def cross(self, no): # a*b = i(a2b3 - a3b2) + j(a3b1 - a1b3) + k(a1b2 - a2b1)\n",
    "        return Points(self.y*no.z - self.z*no.y,\n",
    "                      self.z*no.x - self.x*no.z,\n",
    "                      self.x*no.y - self.y*no.x)\n",
    "                      \n",
    "    def absolute(self):\n",
    "        return pow((self.x ** 2 + self.y ** 2 + self.z ** 2), 0.5)"
   ]
  },
  {
   "cell_type": "code",
   "execution_count": 5,
   "metadata": {},
   "outputs": [
    {
     "name": "stdout",
     "output_type": "stream",
     "text": [
      "4\n",
      "2 4 5 6\n",
      "4 \n",
      "2 4 11 12\n",
      "6\n",
      "5\n",
      "12\n",
      "11\n"
     ]
    }
   ],
   "source": [
    "set_1 = set()\n",
    "set_2 = set()\n",
    "input()\n",
    "set_1.update(input().split(' ')) \n",
    "input()\n",
    "set_2.update(input().split(' '))\n",
    "\n",
    "for item in set_1.symmetric_difference(set_2):\n",
    "    print(item)"
   ]
  },
  {
   "cell_type": "code",
   "execution_count": 19,
   "metadata": {},
   "outputs": [
    {
     "name": "stdout",
     "output_type": "stream",
     "text": [
      "4\n",
      "2 4 5 6\n",
      "4\n",
      "2 4 11 12\n",
      "11\n",
      "12\n",
      "5\n",
      "6\n"
     ]
    }
   ],
   "source": [
    "set_1 = set()\n",
    "set_2 = set()\n",
    "l = []\n",
    "input()\n",
    "set_1.update(input().split(' ')) \n",
    "\n",
    "input()\n",
    "set_2.update(input().split(' '))\n",
    "\n",
    "for item in set_1.symmetric_difference(set_2):\n",
    "    l.append(item) #it should have been converted into integer to be sorted\n",
    "    \n",
    "l.sort()\n",
    "\n",
    "for item in l:\n",
    "    print(item)"
   ]
  },
  {
   "cell_type": "code",
   "execution_count": 36,
   "metadata": {},
   "outputs": [
    {
     "data": {
      "text/plain": [
       "-1"
      ]
     },
     "execution_count": 36,
     "metadata": {},
     "output_type": "execute_result"
    }
   ],
   "source": [
    "False - True"
   ]
  },
  {
   "cell_type": "code",
   "execution_count": 3,
   "metadata": {},
   "outputs": [
    {
     "name": "stdout",
     "output_type": "stream",
     "text": [
      "9\n",
      "1 2 3 4 5 6 7 8 9\n",
      "10\n",
      "pop\n",
      "{2, 3, 4, 5, 6, 7, 8, 9}\n",
      "remove 9\n",
      "{2, 3, 4, 5, 6, 7, 8}\n",
      "discard 9\n",
      "{2, 3, 4, 5, 6, 7, 8}\n",
      "discard 8\n",
      "{2, 3, 4, 5, 6, 7}\n",
      "remove 7\n",
      "{2, 3, 4, 5, 6}\n",
      "pop\n",
      "{3, 4, 5, 6}\n",
      "discard 6\n",
      "{3, 4, 5}\n",
      "remove 5\n",
      "{3, 4}\n",
      "pop\n",
      "{4}\n",
      "discard 5\n",
      "{4}\n",
      "4\n"
     ]
    }
   ],
   "source": [
    "input()\n",
    "set_1 = set(map(int, input().split()))\n",
    "\n",
    "for _ in range(int(input())):\n",
    "    cmd, *num = input().split()\n",
    "    \n",
    "    if cmd == 'pop':\n",
    "        if set_1:  \n",
    "            set_1.pop()\n",
    "            print(set_1)\n",
    "    elif cmd == 'remove':\n",
    "        if num[0].isdigit():\n",
    "            num_1 = int(num[0])\n",
    "            if num_1 in set_1:  \n",
    "                set_1.remove(num_1)\n",
    "                print(set_1)\n",
    "    elif cmd == 'discard':\n",
    "        if num[0].isdigit():\n",
    "            num_1 = int(num[0])\n",
    "            set_1.discard(num_1)  \n",
    "            print(set_1)\n",
    "        \n",
    "print(sum(set_1))\n"
   ]
  },
  {
   "cell_type": "code",
   "execution_count": 1,
   "metadata": {},
   "outputs": [
    {
     "name": "stdout",
     "output_type": "stream",
     "text": [
      "16\n",
      "1 2 3 4 5 6 7 8 9 10 11 12 13 14 24 52\n",
      "4\n",
      "intersection_update 10\n",
      "2 3 5 6 8 9 1 4 7 11\n",
      "update 2\n",
      "55 66\n",
      "symmetric_difference_update 5\n",
      "22 7 35 62 58\n",
      "difference_update 7\n",
      "11 22 35 55 58 62 66\n",
      "181\n"
     ]
    }
   ],
   "source": [
    "input()\n",
    "main_set = set(map(int, input().split()))\n",
    "\n",
    "for _ in range(int(input())):\n",
    "    cmd, *num = input()\n",
    "    sec_set = set(map(int, input().split()))\n",
    "    \n",
    "    if cmd == 'update':\n",
    "        main_set |= sec_set\n",
    "        print(main_set)\n",
    "    elif cmd == 'intersection_update':\n",
    "        main_set &= sec_set\n",
    "        print(main_set)\n",
    "    elif cmd == 'difference_update':\n",
    "        main_set -= sec_set\n",
    "        print(main_set)\n",
    "    elif cmd == 'symmetric_difference':\n",
    "        main_set ^= sec_set\n",
    "        print(main_set)\n",
    "        \n",
    "print(sum(main_set))"
   ]
  },
  {
   "cell_type": "code",
   "execution_count": 2,
   "metadata": {},
   "outputs": [],
   "source": [
    "l = [1,1,1,1,1]"
   ]
  },
  {
   "cell_type": "code",
   "execution_count": 3,
   "metadata": {},
   "outputs": [
    {
     "data": {
      "text/plain": [
       "5"
      ]
     },
     "execution_count": 3,
     "metadata": {},
     "output_type": "execute_result"
    }
   ],
   "source": [
    "l.count(1)"
   ]
  },
  {
   "cell_type": "code",
   "execution_count": 4,
   "metadata": {},
   "outputs": [],
   "source": [
    "s = set(l.copy())"
   ]
  },
  {
   "cell_type": "code",
   "execution_count": 5,
   "metadata": {},
   "outputs": [
    {
     "name": "stdout",
     "output_type": "stream",
     "text": [
      "{1}\n"
     ]
    }
   ],
   "source": [
    "print(s)"
   ]
  },
  {
   "cell_type": "code",
   "execution_count": 6,
   "metadata": {},
   "outputs": [
    {
     "data": {
      "text/plain": [
       "False"
      ]
     },
     "execution_count": 6,
     "metadata": {},
     "output_type": "execute_result"
    }
   ],
   "source": [
    "s."
   ]
  },
  {
   "cell_type": "code",
   "execution_count": 1,
   "metadata": {},
   "outputs": [
    {
     "name": "stdout",
     "output_type": "stream",
     "text": [
      "-1-5j\n"
     ]
    },
    {
     "ename": "ValueError",
     "evalue": "invalid literal for int() with base 10: '-'",
     "output_type": "error",
     "traceback": [
      "\u001b[1;31m---------------------------------------------------------------------------\u001b[0m",
      "\u001b[1;31mValueError\u001b[0m                                Traceback (most recent call last)",
      "\u001b[1;32m<ipython-input-1-520a070fc6df>\u001b[0m in \u001b[0;36m<module>\u001b[1;34m\u001b[0m\n\u001b[0;32m      1\u001b[0m \u001b[1;32mimport\u001b[0m \u001b[0mcmath\u001b[0m\u001b[1;33m\u001b[0m\u001b[1;33m\u001b[0m\u001b[0m\n\u001b[0;32m      2\u001b[0m \u001b[0mcom_coor\u001b[0m \u001b[1;33m=\u001b[0m \u001b[0minput\u001b[0m\u001b[1;33m(\u001b[0m\u001b[1;33m)\u001b[0m\u001b[1;33m\u001b[0m\u001b[1;33m\u001b[0m\u001b[0m\n\u001b[1;32m----> 3\u001b[1;33m \u001b[0mx\u001b[0m \u001b[1;33m=\u001b[0m \u001b[0mint\u001b[0m\u001b[1;33m(\u001b[0m\u001b[0mcom_coor\u001b[0m\u001b[1;33m[\u001b[0m\u001b[1;36m0\u001b[0m\u001b[1;33m]\u001b[0m\u001b[1;33m)\u001b[0m\u001b[1;33m\u001b[0m\u001b[1;33m\u001b[0m\u001b[0m\n\u001b[0m\u001b[0;32m      4\u001b[0m \u001b[0my\u001b[0m \u001b[1;33m=\u001b[0m \u001b[0mint\u001b[0m\u001b[1;33m(\u001b[0m\u001b[0mcom_coor\u001b[0m\u001b[1;33m[\u001b[0m\u001b[1;36m2\u001b[0m\u001b[1;33m]\u001b[0m\u001b[1;33m)\u001b[0m\u001b[1;33m\u001b[0m\u001b[1;33m\u001b[0m\u001b[0m\n\u001b[0;32m      5\u001b[0m \u001b[1;33m\u001b[0m\u001b[0m\n",
      "\u001b[1;31mValueError\u001b[0m: invalid literal for int() with base 10: '-'"
     ]
    }
   ],
   "source": [
    "import cmath\n",
    "com_coor = input()\n",
    "x = int(com_coor[0])\n",
    "y = int(com_coor[2])\n",
    "\n",
    "print(abs(complex(x,y)))\n",
    "print(cmath.phase(complex(x,y)))"
   ]
  },
  {
   "cell_type": "code",
   "execution_count": 2,
   "metadata": {},
   "outputs": [],
   "source": [
    "import cmath"
   ]
  },
  {
   "cell_type": "code",
   "execution_count": 5,
   "metadata": {},
   "outputs": [],
   "source": [
    "complex_num = -1 - 5j\n",
    "polar_coord = cmath.polar(complex_num)\n"
   ]
  },
  {
   "cell_type": "code",
   "execution_count": 6,
   "metadata": {},
   "outputs": [
    {
     "name": "stdout",
     "output_type": "stream",
     "text": [
      "(5.0990195135927845, -1.7681918866447774)\n"
     ]
    }
   ],
   "source": [
    "print(polar_coord)"
   ]
  },
  {
   "cell_type": "code",
   "execution_count": 17,
   "metadata": {},
   "outputs": [
    {
     "name": "stdout",
     "output_type": "stream",
     "text": [
      "-1-5j\n",
      "2.23606797749979\n",
      "1.1071487177940904\n"
     ]
    }
   ],
   "source": [
    "import re\n",
    "import cmath\n",
    "# Sample input string\n",
    "input_string = input()\n",
    "\n",
    "# Define a regex pattern to match the format x+jy\n",
    "pattern = r\"(-?\\d+(\\.\\d+)?)\\s*\\+\\s*(-?\\d+(\\.\\d+)?)j\"\n",
    "\n",
    "# Search for the pattern in the input string\n",
    "match = re.match(pattern, input_string)\n",
    "\n",
    "if match:\n",
    "    # Extract the values of x and y\n",
    "    x = float(match.group(1))\n",
    "    y = float(match.group(3))\n",
    "    \n",
    "\n",
    "print(abs(complex(x,y)))\n",
    "print(cmath.phase(complex(x,y)))"
   ]
  },
  {
   "cell_type": "code",
   "execution_count": 18,
   "metadata": {},
   "outputs": [
    {
     "name": "stdout",
     "output_type": "stream",
     "text": [
      "-1-5j\n",
      "5.0990195135927845\n",
      "-1.7681918866447774\n"
     ]
    }
   ],
   "source": [
    "from cmath import phase\n",
    "from math import sqrt\n",
    "\n",
    "c = complex(input())\n",
    "\n",
    "print(sqrt(c.real**2 + c.imag**2))\n",
    "print(phase(c))"
   ]
  },
  {
   "cell_type": "code",
   "execution_count": 3,
   "metadata": {},
   "outputs": [
    {
     "name": "stdout",
     "output_type": "stream",
     "text": [
      "30°\n"
     ]
    }
   ],
   "source": [
    "print(str(30) + u'\\N{DEGREE SIGN}')"
   ]
  },
  {
   "cell_type": "code",
   "execution_count": 52,
   "metadata": {},
   "outputs": [
    {
     "name": "stdout",
     "output_type": "stream",
     "text": [
      "7\n",
      "1\n",
      "121\n",
      "12321\n",
      "1234321\n",
      "123454321\n",
      "12345654321\n",
      "1234567654321\n"
     ]
    }
   ],
   "source": [
    "l = list()\n",
    "for i in range(1,int(input())+1):\n",
    "    l1 = list(map(str, list(range(1,i+1))))\n",
    "    l2 = list(map(str, list(range(1,i))[::-1]))\n",
    "    print(''.join(l1+l2))"
   ]
  },
  {
   "cell_type": "code",
   "execution_count": 57,
   "metadata": {},
   "outputs": [
    {
     "name": "stdout",
     "output_type": "stream",
     "text": [
      "18\n",
      "1\n",
      "121\n",
      "12321\n",
      "1234321\n",
      "123454321\n",
      "12345654321\n",
      "1234567654321\n",
      "123456787654321\n",
      "12345678987654321\n",
      "1234567900987654321\n",
      "123456790120987654321\n",
      "12345679012320987654321\n",
      "1234567901234320987654321\n",
      "123456790123454320987654321\n",
      "12345679012345654320987654321\n",
      "1234567901234567654320987654321\n",
      "123456790123456787654320987654321\n",
      "12345679012345678987654320987654321\n"
     ]
    }
   ],
   "source": [
    "for i in range(1, int(input()) +1):\n",
    "    print(((10**i)//9)**2)"
   ]
  },
  {
   "cell_type": "code",
   "execution_count": 54,
   "metadata": {},
   "outputs": [
    {
     "data": {
      "text/plain": [
       "'11'"
      ]
     },
     "execution_count": 54,
     "metadata": {},
     "output_type": "execute_result"
    }
   ],
   "source": [
    "ascii(1)*2"
   ]
  },
  {
   "cell_type": "code",
   "execution_count": 62,
   "metadata": {},
   "outputs": [
    {
     "name": "stdout",
     "output_type": "stream",
     "text": [
      "<generator object <genexpr> at 0x0000026E5FE95148>\n"
     ]
    }
   ],
   "source": [
    "print(i for i in range(5))"
   ]
  },
  {
   "cell_type": "code",
   "execution_count": 64,
   "metadata": {},
   "outputs": [
    {
     "name": "stdout",
     "output_type": "stream",
     "text": [
      "1 1 6\n",
      "5\n",
      "(1, 5) (1, 5) (6, 5)\n"
     ]
    }
   ],
   "source": [
    "from itertools import product\n",
    "a = list(map(int, input().split()))\n",
    "b = list(map(int, input().split()))\n",
    "\n",
    "print(' '.join(list(map(str, list(product(a,b))))))"
   ]
  },
  {
   "cell_type": "code",
   "execution_count": 70,
   "metadata": {},
   "outputs": [
    {
     "name": "stdout",
     "output_type": "stream",
     "text": [
      "1 2 3 "
     ]
    }
   ],
   "source": [
    "for i in [1,2,3]:\n",
    "    print(i,'',end = '')"
   ]
  },
  {
   "cell_type": "code",
   "execution_count": 72,
   "metadata": {},
   "outputs": [
    {
     "name": "stdout",
     "output_type": "stream",
     "text": [
      "1 2 3\n",
      "4 5 6\n",
      "(1, 4) (1, 5) (1, 6) (2, 4) (2, 5) (2, 6) (3, 4) (3, 5) (3, 6) "
     ]
    }
   ],
   "source": [
    "#Same code as above but slighty easier\n",
    "from itertools import product\n",
    "a = list(map(int, input().split()))\n",
    "b = list(map(int, input().split()))\n",
    "c = list(product(a,b))\n",
    "\n",
    "for i in c:\n",
    "    print(i,'',end = '')"
   ]
  },
  {
   "cell_type": "code",
   "execution_count": 75,
   "metadata": {},
   "outputs": [],
   "source": [
    "l = ['candle','banana','apple']\n",
    "l.sort()"
   ]
  },
  {
   "cell_type": "code",
   "execution_count": 76,
   "metadata": {},
   "outputs": [
    {
     "name": "stdout",
     "output_type": "stream",
     "text": [
      "['apple', 'banana', 'candle']\n"
     ]
    }
   ],
   "source": [
    "print(l)"
   ]
  },
  {
   "cell_type": "code",
   "execution_count": 81,
   "metadata": {},
   "outputs": [
    {
     "name": "stdout",
     "output_type": "stream",
     "text": [
      "HACK 2\n",
      "AC\n",
      "AH\n",
      "AK\n",
      "CA\n",
      "CH\n",
      "CK\n",
      "HA\n",
      "HC\n",
      "HK\n",
      "KA\n",
      "KC\n",
      "KH\n"
     ]
    }
   ],
   "source": [
    "from itertools import permutations\n",
    "\n",
    "inp = input().split()\n",
    "word = inp[0]\n",
    "length = int(inp[1])\n",
    "l = list(permutations(word,length))\n",
    "l.sort()\n",
    "for i in l:\n",
    "    print(''.join(i))\n",
    "-------------------------------------------------------------------\n",
    "-------------------------------------------------------------------\n",
    "#from itertools import permutations\n",
    "#word , length = input().split()\n",
    "#for i in permutations(sorted(word),int(length)):\n",
    "#   print(''.join(i))"
   ]
  },
  {
   "cell_type": "code",
   "execution_count": 92,
   "metadata": {},
   "outputs": [
    {
     "name": "stdout",
     "output_type": "stream",
     "text": [
      "1222311\n",
      "(1, '1') (3, '2') (1, '3') (2, '1') "
     ]
    }
   ],
   "source": [
    "from itertools import groupby\n",
    "\n",
    "num_list = list(input())\n",
    "\n",
    "for key, group in groupby(num_list):\n",
    "    print((len(list(group)), key), '', end = '')"
   ]
  },
  {
   "cell_type": "code",
   "execution_count": 93,
   "metadata": {},
   "outputs": [],
   "source": [
    "l = ['a','a','c','e','r']"
   ]
  },
  {
   "cell_type": "code",
   "execution_count": 98,
   "metadata": {},
   "outputs": [
    {
     "name": "stdout",
     "output_type": "stream",
     "text": [
      "(0, 'a')\n",
      "(1, 'a')\n",
      "(2, 'c')\n",
      "(3, 'e')\n",
      "(4, 'r')\n"
     ]
    }
   ],
   "source": [
    "for i,j in enumerate(l):\n",
    "    print((i,j))"
   ]
  },
  {
   "cell_type": "code",
   "execution_count": null,
   "metadata": {},
   "outputs": [],
   "source": [
    "from itertools import permutations\n",
    "N = int(input())\n",
    "S = input().split()\n",
    "K = int(input())\n",
    "\n",
    "P = permutations(S, K)\n",
    "\n",
    "count = total = 0\n",
    "\n",
    "for e in P:\n",
    "    total += 1\n",
    "    if 'a' in e:\n",
    "        count += 1\n",
    "        \n",
    "print(count / total)\n",
    "\n",
    "-----------------------------------------------------\n",
    "#Debug this code. The above code is the correct one.\n",
    "'''\n",
    "from itertools import combinations\n",
    "\n",
    "N = int(input())\n",
    "alphas = input().split()\n",
    "K = int(input())\n",
    "\n",
    "relevant_index = []\n",
    "\n",
    "result = 0\n",
    "\n",
    "for i,j in enumerate(alphas):\n",
    "    if j == 'a':\n",
    "        relevant_index.append(i)\n",
    "    else:\n",
    "        continue\n",
    "\n",
    "for i in permutations(list(range(1,N+1)), 2):\n",
    "    if set(i).intersection(set(relevant_index)):\n",
    "        result += 1\n",
    "    else:\n",
    "        continue\n",
    "        \n",
    "print(result/len(list(permutations(list(range(1,N+1)), 2))))\n",
    "'''"
   ]
  },
  {
   "cell_type": "code",
   "execution_count": 112,
   "metadata": {},
   "outputs": [],
   "source": [
    "l0 = []\n",
    "l1 = [1,2,3]\n",
    "l2 = [4,5]"
   ]
  },
  {
   "cell_type": "code",
   "execution_count": 113,
   "metadata": {},
   "outputs": [],
   "source": [
    "l1.extend(l2)"
   ]
  },
  {
   "cell_type": "code",
   "execution_count": 114,
   "metadata": {},
   "outputs": [
    {
     "name": "stdout",
     "output_type": "stream",
     "text": [
      "[1, 2, 3, 4, 5]\n"
     ]
    }
   ],
   "source": [
    "print(l1)"
   ]
  },
  {
   "cell_type": "code",
   "execution_count": 115,
   "metadata": {},
   "outputs": [],
   "source": [
    "l0.extend(l1)"
   ]
  },
  {
   "cell_type": "code",
   "execution_count": 116,
   "metadata": {},
   "outputs": [
    {
     "name": "stdout",
     "output_type": "stream",
     "text": [
      "[1, 2, 3, 4, 5] [1, 2, 3, 4, 5]\n"
     ]
    }
   ],
   "source": [
    "print(l0, l1)"
   ]
  },
  {
   "cell_type": "code",
   "execution_count": null,
   "metadata": {},
   "outputs": [],
   "source": [
    "#Needs Debugging..from hackerrank, itertools, maximize it\n",
    "\n",
    "from itertools import product\n",
    "oo , modulo = list(map(int, input().split()))\n",
    "\n",
    "main_list = list()\n",
    "\n",
    "for _ in range(oo):\n",
    "    main_list.append(list(map(int, input().split())))\n",
    "    \n",
    "combinations = list(product(*main_list))\n",
    "\n",
    "max_value = 0\n",
    "\n",
    "for item in combinations:\n",
    "    calc = (item[0]**2 + item[1]**2 + item[2]**2) % modulo\n",
    "    if  calc > max_value:\n",
    "        max_value = calc\n",
    "        \n",
    "print(max_value) \n",
    "\n",
    "#FUCKIND DID IT!!!!!!!! Here's the dubugged version..a stupid fucking mistake though in the next line"
   ]
  },
  {
   "cell_type": "code",
   "execution_count": null,
   "metadata": {},
   "outputs": [],
   "source": [
    "#Debugged version\n",
    "from itertools import product\n",
    "oo , modulo = list(map(int, input().split()))\n",
    "\n",
    "main_list = list()\n",
    "\n",
    "for _ in range(oo):\n",
    "    sub_list = list(map(int, input().split()))\n",
    "    main_list.append(sub_list[1:])\n",
    "    \n",
    "combinations = list(product(*main_list))\n",
    "\n",
    "max_value = 0\n",
    "\n",
    "calc_value = 0\n",
    "\n",
    "for item in combinations:\n",
    "    for num in item:\n",
    "        calc_value += num**2\n",
    "        \n",
    "    calc = calc_value % modulo\n",
    "    if  calc > max_value:\n",
    "        max_value = calc\n",
    "    calc_value = 0\n",
    "        \n",
    "print(max_value)"
   ]
  },
  {
   "cell_type": "code",
   "execution_count": null,
   "metadata": {},
   "outputs": [],
   "source": [
    "#DSA Question------------------|\n",
    "#Take a list look for number represented as query\n",
    "#Not a brute force solution\n",
    "#Look at binary tree structure to understand\n",
    "#Return index of query"
   ]
  },
  {
   "cell_type": "code",
   "execution_count": 13,
   "metadata": {},
   "outputs": [],
   "source": [
    "act_list = sorted([7,25,64,159,436,54,962,453,11,2,359,11,11])\n",
    "other_list = list(range(1,10000000))"
   ]
  },
  {
   "cell_type": "code",
   "execution_count": 16,
   "metadata": {},
   "outputs": [],
   "source": [
    "#This function is specifically for the case when there are more than one instances of query. We want the leftmost!\n",
    "def condition(act_list, query, mid):\n",
    "    \n",
    "    middle_number = act_list[mid] \n",
    "    \n",
    "    if middle_number == query:\n",
    "        if mid-1 >= 0 and act_list[mid-1] == query:\n",
    "            result = 'Left'\n",
    "        else:\n",
    "            result = 'Go'\n",
    "    elif middle_number > query:\n",
    "        result = 'Left'\n",
    "    elif middle_number < query:\n",
    "        result = 'Right'\n",
    "        \n",
    "    return result\n",
    "\n",
    "\n",
    "def binary_search(act_list, query):\n",
    "    lo = 0\n",
    "    hi = len(act_list) - 1\n",
    "    \n",
    "    while hi >= lo and hi >= 0:\n",
    "        mid = (hi + lo)//2\n",
    "        middle_number = act_list[mid]\n",
    "        print(f'lo: {lo}, hi: {hi}, mid: {mid}, middle_number: {middle_number}')\n",
    "        result  = condition(act_list, query, mid)\n",
    "        \n",
    "        if result == 'Go':\n",
    "            return mid\n",
    "        elif result == 'Left':\n",
    "            hi = mid - 1\n",
    "        elif result == 'Right':\n",
    "            lo = mid + 1\n",
    "            \n",
    "    return -1"
   ]
  },
  {
   "cell_type": "code",
   "execution_count": 17,
   "metadata": {},
   "outputs": [
    {
     "name": "stdout",
     "output_type": "stream",
     "text": [
      "lo: 0, hi: 9999998, mid: 4999999, middle_number: 5000000\n",
      "lo: 0, hi: 4999998, mid: 2499999, middle_number: 2500000\n",
      "lo: 0, hi: 2499998, mid: 1249999, middle_number: 1250000\n",
      "lo: 0, hi: 1249998, mid: 624999, middle_number: 625000\n",
      "lo: 0, hi: 624998, mid: 312499, middle_number: 312500\n",
      "lo: 0, hi: 312498, mid: 156249, middle_number: 156250\n",
      "lo: 0, hi: 156248, mid: 78124, middle_number: 78125\n",
      "lo: 0, hi: 78123, mid: 39061, middle_number: 39062\n",
      "lo: 0, hi: 39060, mid: 19530, middle_number: 19531\n",
      "lo: 0, hi: 19529, mid: 9764, middle_number: 9765\n",
      "lo: 0, hi: 9763, mid: 4881, middle_number: 4882\n",
      "lo: 0, hi: 4880, mid: 2440, middle_number: 2441\n",
      "lo: 0, hi: 2439, mid: 1219, middle_number: 1220\n",
      "lo: 0, hi: 1218, mid: 609, middle_number: 610\n",
      "lo: 610, hi: 1218, mid: 914, middle_number: 915\n",
      "lo: 915, hi: 1218, mid: 1066, middle_number: 1067\n",
      "lo: 915, hi: 1065, mid: 990, middle_number: 991\n",
      "lo: 915, hi: 989, mid: 952, middle_number: 953\n",
      "lo: 953, hi: 989, mid: 971, middle_number: 972\n",
      "lo: 953, hi: 970, mid: 961, middle_number: 962\n"
     ]
    },
    {
     "data": {
      "text/plain": [
       "961"
      ]
     },
     "execution_count": 17,
     "metadata": {},
     "output_type": "execute_result"
    }
   ],
   "source": [
    "binary_search(other_list, 962)"
   ]
  },
  {
   "cell_type": "code",
   "execution_count": 11,
   "metadata": {},
   "outputs": [
    {
     "name": "stdout",
     "output_type": "stream",
     "text": [
      "[2, 7, 11, 11, 11, 25, 54, 64, 159, 359, 436, 453, 962]\n",
      "[1, 2, 3, 4, 5, 6, 7, 8, 9]\n"
     ]
    }
   ],
   "source": [
    "print(act_list)\n",
    "print(other_list)"
   ]
  },
  {
   "cell_type": "code",
   "execution_count": null,
   "metadata": {},
   "outputs": [],
   "source": [
    "#Find all the perfect squares between 1 million and 2 million\n",
    "\n",
    "def square_condition(number_list, mid):\n",
    "    middle_number = act_list[mid]\n",
    "    \n",
    "    if middle_number == query:\n",
    "        if mid-1 >= 0 and act_list[mid-1] == query:\n",
    "            result = 'Left'\n",
    "        else:\n",
    "            result = 'Go'\n",
    "    elif middle_number > query:\n",
    "        result = 'Left'\n",
    "    elif middle_number < query:\n",
    "        result = 'Right'\n",
    "        \n",
    "    return result"
   ]
  },
  {
   "cell_type": "code",
   "execution_count": 31,
   "metadata": {},
   "outputs": [],
   "source": [
    "import math"
   ]
  },
  {
   "cell_type": "code",
   "execution_count": 36,
   "metadata": {},
   "outputs": [
    {
     "name": "stdout",
     "output_type": "stream",
     "text": [
      "True\n"
     ]
    }
   ],
   "source": [
    "num = math.sqrt(21)\n",
    "print(num*num == 21)"
   ]
  },
  {
   "cell_type": "code",
   "execution_count": 44,
   "metadata": {},
   "outputs": [
    {
     "name": "stdout",
     "output_type": "stream",
     "text": [
      "1024\n",
      "1089\n",
      "1156\n",
      "1225\n",
      "1296\n",
      "1369\n",
      "1444\n",
      "1521\n",
      "1600\n",
      "1681\n",
      "1764\n",
      "1849\n",
      "1936\n"
     ]
    }
   ],
   "source": [
    "#Find all the square roots in a given range\n",
    "import math\n",
    "\n",
    "lower_bound = 1000\n",
    "upper_bound = 2000\n",
    "\n",
    "start = math.ceil(math.sqrt(lower_bound))\n",
    "current_square = start * start\n",
    "\n",
    "while current_square <= upper_bound:\n",
    "    print(current_square)\n",
    "    start += 1\n",
    "    current_square = start * start"
   ]
  },
  {
   "cell_type": "code",
   "execution_count": 58,
   "metadata": {},
   "outputs": [],
   "source": [
    "l = []"
   ]
  },
  {
   "cell_type": "code",
   "execution_count": 60,
   "metadata": {},
   "outputs": [
    {
     "data": {
      "text/plain": [
       "3"
      ]
     },
     "execution_count": 60,
     "metadata": {},
     "output_type": "execute_result"
    }
   ],
   "source": [
    "len(l)-sorted(l).index(l[0])"
   ]
  },
  {
   "cell_type": "code",
   "execution_count": 85,
   "metadata": {},
   "outputs": [],
   "source": [
    "def rotated_number(given_list):\n",
    "    \n",
    "    rotatingNumber = sorted(given_list).index(given_list[0])\n",
    "    \n",
    "    if rotatingNumber != 0 and len(given_list) != 0:\n",
    "        return len(given_list) - rotatingNumber\n",
    "    else:\n",
    "        return 0"
   ]
  },
  {
   "cell_type": "code",
   "execution_count": 88,
   "metadata": {},
   "outputs": [
    {
     "data": {
      "text/plain": [
       "3"
      ]
     },
     "execution_count": 88,
     "metadata": {},
     "output_type": "execute_result"
    }
   ],
   "source": [
    "rotated_number([19,25,29,3,5,6,7,9,11,14])"
   ]
  },
  {
   "cell_type": "code",
   "execution_count": 78,
   "metadata": {},
   "outputs": [],
   "source": [
    "#Same solution..but with Binary Search\n",
    "\n",
    "def rotated_number2(given_list):\n",
    "    left, right = 0, len(given_list) - 1\n",
    "\n",
    "    while left < right:\n",
    "        mid = (left + right) // 2\n",
    "\n",
    "        if given_list[mid] > given_list[right]:\n",
    "            left = mid + 1\n",
    "        else:\n",
    "            right = mid\n",
    "\n",
    "    return left\n"
   ]
  },
  {
   "cell_type": "code",
   "execution_count": 90,
   "metadata": {
    "scrolled": true
   },
   "outputs": [
    {
     "data": {
      "text/plain": [
       "0"
      ]
     },
     "execution_count": 90,
     "metadata": {},
     "output_type": "execute_result"
    }
   ],
   "source": [
    "rotated_number2([8,8,8,8,8,8])"
   ]
  },
  {
   "cell_type": "code",
   "execution_count": null,
   "metadata": {},
   "outputs": [],
   "source": [
    "#NamedTuple\n",
    "#This solution is without named tuple\n",
    "num = int(input())\n",
    "\n",
    "column_list = input().split()\n",
    "marks_index = column_list.index('MARKS')\n",
    "number_list = list()\n",
    "\n",
    "for _ in range(num):\n",
    "    temp_list = input().split()\n",
    "    number_list.append(int(temp_list[marks_index]))\n",
    "    \n",
    "print(f'{sum(number_list)/len(number_list): .2f}')\n"
   ]
  },
  {
   "cell_type": "code",
   "execution_count": null,
   "metadata": {},
   "outputs": [],
   "source": [
    "#This solution is using Named Tuple\n",
    "from collections import namedtuple\n",
    "\n",
    "num = int(input())\n",
    "number_list = list()\n",
    "student_list = namedtuple('student_list', input().split())\n",
    "\n",
    "for _ in range(num):\n",
    "    number_list.append(int(student_list(*input().split()).MARKS))\n",
    "    \n",
    "print(sum(number_list)/num)"
   ]
  },
  {
   "cell_type": "code",
   "execution_count": null,
   "metadata": {},
   "outputs": [],
   "source": [
    "#Solution for default dict, WORKS FOR ALL CASES!!!!!!!\n",
    "\n",
    "from collections import defaultdict\n",
    "n,m=map(int,input().split(' '))\n",
    "A=[input() for _ in range(n)]\n",
    "B=[input() for _ in range(m)]\n",
    "D=defaultdict(list)\n",
    "for ind,key in enumerate(A):\n",
    "    D[key].append(ind+1)\n",
    "for j in B:\n",
    "    if len(D[j])>0:\n",
    "        print(*D[j])\n",
    "    else:\n",
    "        print(-1)"
   ]
  },
  {
   "cell_type": "code",
   "execution_count": 59,
   "metadata": {},
   "outputs": [
    {
     "name": "stdout",
     "output_type": "stream",
     "text": [
      "5 3\n",
      "a\n",
      "a\n",
      "b\n",
      "a\n",
      "b\n",
      "defaultdict(<class 'list'>, {'a': [1, 2, 4], 'b': [3, 5]})\n",
      "a\n",
      "b\n",
      "c\n",
      "defaultdict(<class 'list'>, {'a': [1, 2, 4], 'b': [3, 5], 'c': [-1]})\n",
      "1 2 4 \n",
      "3 5 \n",
      "-1 \n"
     ]
    }
   ],
   "source": [
    "#Works for only a few cases!!!\n",
    "\n",
    "from collections import defaultdict\n",
    "\n",
    "A, B = map(int, input().split())\n",
    "\n",
    "a = {}\n",
    "dic = defaultdict(list)\n",
    "\n",
    "# Input and process list 'a'\n",
    "for i in range(1, A + 1):\n",
    "    element = input()\n",
    "    a[element] = i\n",
    "    dic[element].append(i)\n",
    "    \n",
    "print(a)\n",
    "\n",
    "for _ in range(B):\n",
    "    element = input()\n",
    "    if element in a:\n",
    "        continue\n",
    "    else:\n",
    "        dic[element].append(-1)\n",
    "        \n",
    "print(dic)\n",
    "\n",
    "for item in dic.values():\n",
    "    for element in item:\n",
    "        print(element, end = ' ')\n",
    "    print()"
   ]
  },
  {
   "cell_type": "code",
   "execution_count": null,
   "metadata": {},
   "outputs": [],
   "source": [
    "#Works for all cases\n",
    "#Updated\n",
    "#below is the version with the problem..UNIDENTIFIED!!!!!!!\n",
    "\n",
    "from collections import defaultdict\n",
    "\n",
    "A, B = list(map(int, input().split()))\n",
    "\n",
    "a = list(input() for _ in range(A))\n",
    "b = list(input() for _ in range(B))\n",
    "dic = defaultdict(list)\n",
    "\n",
    "for index, item in enumerate(a):\n",
    "        dic[item].append(index+1) \n",
    "        \n",
    "for char in b:\n",
    "    if char in a:\n",
    "        print(*dic[char])\n",
    "    else:\n",
    "        print(-1)"
   ]
  },
  {
   "cell_type": "code",
   "execution_count": null,
   "metadata": {},
   "outputs": [],
   "source": [
    "#Un-updated. The one that worked for all but 3 cases.\n",
    "from collections import defaultdict\n",
    "\n",
    "A, B = list(map(int, input().split()))\n",
    "\n",
    "a = list()\n",
    "b = list()\n",
    "dic = defaultdict(list)\n",
    "\n",
    "\n",
    "for _ in range(A):\n",
    "    a.append(input())\n",
    "    \n",
    "for _ in range(B):\n",
    "    b.append(input())\n",
    "#-----------------------No Bug Above this------------------------------------------    \n",
    "for char in b:\n",
    "    if char in a:\n",
    "        for index, item in enumerate(a):\n",
    "            if item == char:\n",
    "                dic[char].append(int(index)+1)\n",
    "    else:\n",
    "        dic[char].append(-1)\n",
    "\n",
    "#-------------------No Bug Below this------------------------\n",
    "for x in dic.values():\n",
    "    for num in x:\n",
    "        print(num, end= ' ')\n",
    "    print()"
   ]
  },
  {
   "cell_type": "code",
   "execution_count": 72,
   "metadata": {},
   "outputs": [],
   "source": [
    "l = ['a','a','b','c','c','c']"
   ]
  },
  {
   "cell_type": "code",
   "execution_count": 73,
   "metadata": {},
   "outputs": [],
   "source": [
    "from collections import Counter"
   ]
  },
  {
   "cell_type": "code",
   "execution_count": 77,
   "metadata": {},
   "outputs": [
    {
     "name": "stdout",
     "output_type": "stream",
     "text": [
      "2\n",
      "1\n",
      "3\n"
     ]
    }
   ],
   "source": [
    "for key, value in Counter(l).items():\n",
    "    print(value)"
   ]
  },
  {
   "cell_type": "code",
   "execution_count": 84,
   "metadata": {},
   "outputs": [
    {
     "data": {
      "text/plain": [
       "3"
      ]
     },
     "execution_count": 84,
     "metadata": {},
     "output_type": "execute_result"
    }
   ],
   "source": [
    "len(Counter(l).keys())"
   ]
  },
  {
   "cell_type": "code",
   "execution_count": 87,
   "metadata": {},
   "outputs": [],
   "source": [
    "l = [1,2,3,4]"
   ]
  },
  {
   "cell_type": "code",
   "execution_count": 88,
   "metadata": {},
   "outputs": [
    {
     "data": {
      "text/plain": [
       "4"
      ]
     },
     "execution_count": 88,
     "metadata": {},
     "output_type": "execute_result"
    }
   ],
   "source": [
    "l.pop(-1)"
   ]
  },
  {
   "cell_type": "code",
   "execution_count": 95,
   "metadata": {},
   "outputs": [
    {
     "name": "stdout",
     "output_type": "stream",
     "text": [
      "1\n",
      "6\n",
      "4 3 2 1 3 4\n",
      "deque([4, 3, 2, 1, 3])\n",
      "deque([3, 2, 1, 3])\n",
      "deque([3, 2, 1])\n",
      "deque([2, 1])\n",
      "deque([1])\n",
      "deque([])\n",
      "Yes\n"
     ]
    }
   ],
   "source": [
    "#There are bugs in this code..below is the corrected and time-efficient version\n",
    "#Fucking did it!!!!!!!!! DEBUGGED MYSELF\n",
    "#Logic mistake, also did not use deque, but not sure if that caused any problems \n",
    "from collections import deque\n",
    "for _ in range(int(input())):\n",
    "    length = int(input())\n",
    "    cube_list = deque(map(int, input().split()))\n",
    "    cmd = 'Yes'\n",
    "    stack = float('inf')\n",
    "    while len(cube_list) > 0 and cmd == 'Yes':\n",
    "        if cube_list[0] > cube_list[-1]:\n",
    "            if cube_list[0] <= stack:\n",
    "                stack = cube_list.popleft()\n",
    "                print(cube_list)\n",
    "            else:\n",
    "                cmd = 'No'\n",
    "        else:\n",
    "            if cube_list[-1] <= stack:\n",
    "                stack = cube_list.pop()\n",
    "                print(cube_list)\n",
    "            else:\n",
    "                cmd = 'No'\n",
    "                \n",
    "    print(cmd)"
   ]
  },
  {
   "cell_type": "code",
   "execution_count": null,
   "metadata": {},
   "outputs": [],
   "source": [
    "#Debugged version..no clue how the logic works in this one----------understand now\n",
    "for _ in range(int(input())):\n",
    "    #don't really need this variable\n",
    "    length = int(input())\n",
    "    #convert all the elements input into integers\n",
    "    cube_list = list(map(int, input().split()))\n",
    "    #set a deciding variable with an initial value of Yes\n",
    "    cmd = 'Yes'\n",
    "    #take two position, one of the leftmost side of the list and the other on the rightmost side\n",
    "    left = 0\n",
    "    right = length - 1\n",
    "    #set an initial value for this variable to infinite\n",
    "    prev_cube = float('inf')\n",
    "    \n",
    "    #logic!!\n",
    "    #let's assume the first block, if the leftmost block is greater than the rightmost block, then that would be the base of the stack\n",
    "    #vice versa..and since prev_cube is infinite, it will be greater than both of the but will be assigned value\n",
    "    #no prev_cube is leftmost and current leftmost moves forward\n",
    "    #again if left is greater than right and if it is greater than prev_cube, same logic goes on\n",
    "    #until it doesn't\n",
    "    \n",
    "    while left <= right:\n",
    "        if cube_list[left] >= cube_list[right] and cube_list[left] <= prev_cube:\n",
    "            prev_cube = cube_list[left]\n",
    "            left += 1\n",
    "        elif cube_list[right] >= cube_list[left] and cube_list[right] <= prev_cube:\n",
    "            prev_cube = cube_list[right]\n",
    "            right -= 1\n",
    "        else:\n",
    "            cmd = 'No'\n",
    "            break\n",
    "    \n",
    "    print(cmd)"
   ]
  },
  {
   "cell_type": "code",
   "execution_count": 61,
   "metadata": {},
   "outputs": [
    {
     "name": "stdout",
     "output_type": "stream",
     "text": [
      "tctesvgnclzykpmbcqixlonfidpdjbynrcpxsjmucpeyormenrjbibafpzkquminfnnbizgbpxeovefuykjrcebfnntvyamkgykcnvjqxvnprwrarpcgrjoucywgfnbnysgwzymcxyachlpsglosflsubqhvobedbtzuqmvgyvrpeclcsoeemysuyuejpjtahnrzmebztrjtzhhjtqlmhttxdnjilqsqymmhjmlzikkdzasshfktbfsaozyhaduyqcufucqxxuksnfjaiwacvlyiimfrzyxwobrfoalhmowcobbpwuqpwvlstbngxjrebfnckbcagoacmfuzvmqxefiwqkgfwgghxbulvhqiaqewdmmizjfgyymchohejdpsnnpvmtgqzxkesnrikywoolootuuikapycpxhkrplyuhzhndxckbvaynkzreybomwuemxtgmrjxbysarlsemwambppmrumivznuaqskzgpamfsjwwrjvtwyqpainuyyfmwnegjlmanqwvshvpsbpeykfwykdumdgjlkuwoxwqctihfdwvxrefggsxmjtxmpdcigjertcxwennzyamqpahytneybgmdyupusarhemazvozdqurftdvbnavynrsdzxjebjrdatbkoezdgwznplqqzakozjecyewsidawuxfpusmeusantzdglridxnwvbgwjcaofbplnwyxtmwerskdzwhgxfdqbpfhymlgwtvqeehnnhwgklxqkdjgmfxvuxwwpmnqxsaiitfehhbqdyveqfrqjjfnggmhjrgldgctnhzrrqdtbunxxcuwibqkjdickhrtbznevczqoidnfmtaveysysrgbhctwxmevuutrwyriugtuvhuxkqapfjyplczgekxisffoivofobqmipqxzunlrrtcmaivvhbfjvgywwtqubwszqwjtskyuxljhinqrhcgddejurivukcspaazjjwwloreqlreqjifwsv\n",
      "\n",
      "m 47\n",
      "n 46\n",
      "w 46\n"
     ]
    }
   ],
   "source": [
    "from collections import Counter\n",
    "s = sorted(input())\n",
    "#just a new line to separate input from result\n",
    "print()\n",
    "\n",
    "three_chars = Counter(s).most_common()[:3]\n",
    "for key,value in three_chars:\n",
    "    print(f'{key} {value}')"
   ]
  },
  {
   "cell_type": "code",
   "execution_count": 77,
   "metadata": {},
   "outputs": [
    {
     "name": "stdout",
     "output_type": "stream",
     "text": [
      "1 4\n",
      "x**3 + x**2 + x + 1\n",
      "True\n"
     ]
    }
   ],
   "source": [
    "#Built-In HackerRank\n",
    "\n",
    "x,k = map(int, input().split())\n",
    "#Input inside the print statment is the equation, variable for the eq is x\n",
    "#value for x is assigned in the first line of code, python will do the rest\n",
    "#eval() does calculations on strings\n",
    "print(eval(input()) == k)#output is if equation for x is equal to k!!!!"
   ]
  },
  {
   "cell_type": "code",
   "execution_count": 86,
   "metadata": {},
   "outputs": [
    {
     "name": "stdout",
     "output_type": "stream",
     "text": [
      "5\n"
     ]
    },
    {
     "data": {
      "text/plain": [
       "5.0"
      ]
     },
     "execution_count": 86,
     "metadata": {},
     "output_type": "execute_result"
    }
   ],
   "source": [
    "#This is how powerful eval is!!!!\n",
    "eval('print(2+3)') #it is print statement, so it prints 5\n",
    "eval('float(2+3)') #it is not a print statement so it returns the value, which is overriden by the following line of code\n",
    "#eval('int(5/4)') #it returns 1"
   ]
  },
  {
   "cell_type": "code",
   "execution_count": 103,
   "metadata": {},
   "outputs": [
    {
     "name": "stdout",
     "output_type": "stream",
     "text": [
      "3\n",
      "3 4 -5\n",
      "False\n"
     ]
    }
   ],
   "source": [
    "input()\n",
    "palindromes = list(range(10))+ list(11*x for x in range(1,10))\n",
    "print(all(x>0 and x in palindromes for x in list(map(int, input().split()))))"
   ]
  },
  {
   "cell_type": "code",
   "execution_count": 105,
   "metadata": {},
   "outputs": [],
   "source": [
    "s = 'AbC'"
   ]
  },
  {
   "cell_type": "code",
   "execution_count": 107,
   "metadata": {},
   "outputs": [
    {
     "name": "stdout",
     "output_type": "stream",
     "text": [
      "b\n"
     ]
    }
   ],
   "source": [
    "for char in s:\n",
    "    if char.islower():\n",
    "        print(char)"
   ]
  },
  {
   "cell_type": "code",
   "execution_count": 108,
   "metadata": {},
   "outputs": [],
   "source": [
    "l = [1]"
   ]
  },
  {
   "cell_type": "code",
   "execution_count": 109,
   "metadata": {},
   "outputs": [],
   "source": [
    "v = [2]\n",
    "d = [3]"
   ]
  },
  {
   "cell_type": "code",
   "execution_count": 111,
   "metadata": {},
   "outputs": [],
   "source": [
    "l.extend(v+d)"
   ]
  },
  {
   "cell_type": "code",
   "execution_count": 112,
   "metadata": {
    "scrolled": true
   },
   "outputs": [
    {
     "name": "stdout",
     "output_type": "stream",
     "text": [
      "[1, 2, 3]\n"
     ]
    }
   ],
   "source": [
    "print(l)"
   ]
  },
  {
   "cell_type": "code",
   "execution_count": 124,
   "metadata": {},
   "outputs": [],
   "source": [
    "X = [A]+[B]+[C]"
   ]
  },
  {
   "cell_type": "code",
   "execution_count": 127,
   "metadata": {},
   "outputs": [
    {
     "name": "stdout",
     "output_type": "stream",
     "text": [
      "[(1, 6, 7), (2, 5, 8), (3, 4, 9)]\n"
     ]
    }
   ],
   "source": [
    "print(list(zip(*X)))"
   ]
  },
  {
   "cell_type": "code",
   "execution_count": 126,
   "metadata": {},
   "outputs": [],
   "source": [
    "A = [1, 2, 3]\n",
    "B = [6, 5, 4]\n",
    "C = [7, 8, 9]\n",
    "X = [A] + [B] + [C]\n",
    "\n",
    "#result = list(zip(*X))\n",
    "\n",
    "#print(result)\n"
   ]
  },
  {
   "cell_type": "code",
   "execution_count": null,
   "metadata": {},
   "outputs": [],
   "source": [
    "#This code works..don't know how for now..code below is the same but with bugs\n",
    "students, subjects = input().split()\n",
    "X = []\n",
    "\n",
    "for _ in range(int(subjects)):\n",
    "    marks = list(map(float, input().split()))\n",
    "    X.append(marks)\n",
    "\n",
    "for student_marks in zip(*X):#I understand the rest of the code, except zip(*X).\n",
    "    #zip(*X) transposes the data\n",
    "    average = sum(student_marks) / int(subjects)\n",
    "    print(f'{average:.1f}')\n"
   ]
  },
  {
   "cell_type": "code",
   "execution_count": null,
   "metadata": {},
   "outputs": [],
   "source": [
    "#Bugs in it\n",
    "students, subjects = input().split()\n",
    "X = list()\n",
    "for _ in range(int(subjects)):\n",
    "    #marks = list(map(float, input().split()))\n",
    "    #X.append(marks)\n",
    "    X += input().split()\n",
    "    \n",
    "for part in zip(*X):\n",
    "    print(f'{sum(float(part))/int(subjects):.1f}')\n",
    "#There are two problems in this code:\n",
    "#1. Not converting input that goes into X into integers\n",
    "#2. Trying to convert a tuple into a float, part is a tuple"
   ]
  },
  {
   "cell_type": "code",
   "execution_count": 131,
   "metadata": {},
   "outputs": [],
   "source": [
    "def athlete_sort():\n",
    "    n,m = map(int, input().split())\n",
    "\n",
    "    arr = []\n",
    "\n",
    "    for _ in range(n):\n",
    "        arr.append(list(map(int, input().rstrip().split())))\n",
    "\n",
    "    k = int(input())\n",
    "    \n",
    "    sorted_list = sorted(arr, key=lambda x: x[k])\n",
    "    \n",
    "    for item in sorted_list:\n",
    "        #s_item = list(map(str, item))\n",
    "        #print(' '.join(s_item))\n",
    "        print(*item)"
   ]
  },
  {
   "cell_type": "code",
   "execution_count": 19,
   "metadata": {},
   "outputs": [
    {
     "name": "stdout",
     "output_type": "stream",
     "text": [
      "10\n",
      "[0, 1, 1, 8, 27, 125, 512, 2197, 9261, 39304]\n"
     ]
    }
   ],
   "source": [
    "#Lambda and map!!!!!\n",
    "cube = lambda x: x**3\n",
    "\n",
    "def fibonacci(n):\n",
    "    fibonacci_list = []\n",
    "    sum = 0\n",
    "    for _ in range(n):\n",
    "        fibonacci_list.append(sum)\n",
    "        if sum == 0:\n",
    "            sum += 1\n",
    "        else:\n",
    "            sum += fibonacci_list[-2]\n",
    "    return fibonacci_list\n",
    "\n",
    "if __name__ == '__main__':\n",
    "    n = int(input())\n",
    "    print(list(map(cube, fibonacci(n))))"
   ]
  },
  {
   "cell_type": "code",
   "execution_count": null,
   "metadata": {},
   "outputs": [],
   "source": []
  }
 ],
 "metadata": {
  "kernelspec": {
   "display_name": "Python 3",
   "language": "python",
   "name": "python3"
  },
  "language_info": {
   "codemirror_mode": {
    "name": "ipython",
    "version": 3
   },
   "file_extension": ".py",
   "mimetype": "text/x-python",
   "name": "python",
   "nbconvert_exporter": "python",
   "pygments_lexer": "ipython3",
   "version": "3.7.6"
  }
 },
 "nbformat": 4,
 "nbformat_minor": 4
}
